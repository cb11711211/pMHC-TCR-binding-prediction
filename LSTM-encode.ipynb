{
 "cells": [
  {
   "cell_type": "code",
   "execution_count": 15,
   "metadata": {},
   "outputs": [],
   "source": [
    "import numpy as np\n",
    "import torch\n",
    "import torch.nn as nn\n",
    "import pandas as pd\n",
    "import os\n",
    "import sys\n",
    "import matplotlib.pyplot as plt\n",
    "from sklearn.preprocessing import OneHotEncoder"
   ]
  },
  {
   "attachments": {},
   "cell_type": "markdown",
   "metadata": {},
   "source": [
    "Building the LSTM encoding model for the HLA class and neoantigen sequences"
   ]
  },
  {
   "cell_type": "code",
   "execution_count": 16,
   "metadata": {},
   "outputs": [],
   "source": [
    "def encode_seqCDR(seqCDR):\n",
    "    encoding_list = []\n",
    "    for i in range(len(seqCDR)):\n",
    "        if seqCDR[i] == \"*\":\n",
    "            encoding_list.append(np.zeros(5).reshape(1,5))\n",
    "        elif seqCDR[i] == \"_\":\n",
    "            # print(\"Error: seqCDR contains '_'\")\n",
    "            # encoding_list.append(np.zeros(5).reshape(1,5))\n",
    "            return np.nan\n",
    "        else:\n",
    "            encoding_list.append(af.loc[seqCDR[i]].values.reshape(1,5))\n",
    "    return np.array(encoding_list).reshape(1,-1)\n",
    "\n",
    "af = pd.read_csv(\"~/data/project/pMHC-TCR/library/Atchley_factors.csv\")\n",
    "af.index = af[\"Amino acid\"]\n",
    "af.drop(columns=[\"Amino acid\"], inplace=True)"
   ]
  },
  {
   "cell_type": "code",
   "execution_count": 19,
   "metadata": {},
   "outputs": [],
   "source": [
    "class pMHC_datasets(nn.Module):\n",
    "    '''\n",
    "    This class is used to load the data for pMHC encoding\n",
    "    '''\n",
    "    def __init__(self, file_path) -> None:\n",
    "        # super().__init__()\n",
    "        df = self.basic_io(file_path)\n",
    "        \n",
    "        df[\"first3_pep_encode\"] = df[\"first3_pep\"].apply(lambda x: encode_seqCDR(x))\n",
    "        df[\"last3_pep_encode\"] = df[\"last3_pep\"].apply(lambda x: encode_seqCDR(x))\n",
    "        df = df.dropna()\n",
    "\n",
    "        encoded_seq = np.concatenate(df[\"first3_pep_encode\"].values)\n",
    "        encoded_seq = np.concatenate((encoded_seq, np.concatenate(df[\"last3_pep_encode\"].values)), axis=1)\n",
    "\n",
    "        # one-hot encoding the HLA\n",
    "        onehot_encoder = OneHotEncoder(sparse=False)\n",
    "        one_hot_hla = onehot_encoder.fit_transform(df[\"HLA\"].values.reshape(-1,1))\n",
    "        # print(one_hot_hla.shape)\n",
    "\n",
    "        self.data = np.concatenate((encoded_seq, one_hot_hla), axis=1)\n",
    "\n",
    "    def basic_io(self, file_path):\n",
    "        df = pd.read_csv(file_path, index_col=0)\n",
    "        # we use the columns of HLA, NeoAA\n",
    "        df = df[[\"HLA\", \"NeoAA\"]]\n",
    "        df[\"first3_pep\"] = df[\"NeoAA\"].apply(lambda x: x[:3])\n",
    "        df[\"last3_pep\"] = df[\"NeoAA\"].apply(lambda x: x[-3:])\n",
    "        # drop the duplicates\n",
    "        df = df.drop_duplicates(subset=[\"first3_pep\", \"last3_pep\"])\n",
    "        # drop the rows with NaN\n",
    "        df = df.dropna()\n",
    "        return df\n",
    "    \n",
    "    def __len__(self):\n",
    "        return len(self.data)\n",
    "    \n",
    "    def __getitem__(self, idx):\n",
    "        return self.data[idx]"
   ]
  },
  {
   "cell_type": "code",
   "execution_count": 20,
   "metadata": {},
   "outputs": [],
   "source": [
    "file_path = \"~/data/project/data/seqData/20230228.csv\"\n",
    "pMHC_data = pMHC_datasets(file_path)"
   ]
  },
  {
   "attachments": {},
   "cell_type": "markdown",
   "metadata": {},
   "source": [
    "LSTM encoding model"
   ]
  },
  {
   "attachments": {},
   "cell_type": "markdown",
   "metadata": {},
   "source": [
    "class "
   ]
  }
 ],
 "metadata": {
  "kernelspec": {
   "display_name": "torch",
   "language": "python",
   "name": "torch"
  },
  "language_info": {
   "codemirror_mode": {
    "name": "ipython",
    "version": 3
   },
   "file_extension": ".py",
   "mimetype": "text/x-python",
   "name": "python",
   "nbconvert_exporter": "python",
   "pygments_lexer": "ipython3",
   "version": "3.9.12"
  },
  "orig_nbformat": 4
 },
 "nbformat": 4,
 "nbformat_minor": 2
}
