{
 "cells": [
  {
   "cell_type": "code",
   "execution_count": 1,
   "metadata": {},
   "outputs": [],
   "source": [
    "import pyro\n",
    "import torch\n",
    "from pyro.infer import SVI, Trace_ELBO\n",
    "from pyro.optim import Adam\n",
    "\n",
    "def model():\n",
    "    pass\n",
    "\n",
    "def guide():\n",
    "    pass\n",
    "\n",
    "adam_params = {\"lr\": 0.005, \"betas\": (0.95, 0.999)}\n",
    "optim = Adam(adam_params)\n",
    "\n",
    "svi = SVI(model, guide, optim, loss=Trace_ELBO())"
   ]
  },
  {
   "attachments": {},
   "cell_type": "markdown",
   "metadata": {},
   "source": [
    "The up block is a demo for pyro SVI. And the following is a simple example for how to use pyro to inference the fairness of flipping a coin\n",
    "\n",
    "# SVI part I: define the model and guide"
   ]
  },
  {
   "cell_type": "code",
   "execution_count": 2,
   "metadata": {},
   "outputs": [],
   "source": [
    "import pyro.distributions as dist\n",
    "\n",
    "def model(data):\n",
    "    # define the hyperparameters that control the Beta prior\n",
    "    alpha0 = torch.tensor(10.0)\n",
    "    beta0 = torch.tensor(10.9)\n",
    "    # sample f from the Beta prior\n",
    "    f = pyro.sample(\"latent_fairness\", dist.Beta(alpha0, beta0))\n",
    "    # loop over the observed data\n",
    "    for i in range(len(data)):\n",
    "        # observe datapoint i using the bernoulli\n",
    "        # likelihood Bernoulli(f)\n",
    "        pyro.sample(\"obs_{}\".format(i), dist.Bernoulli(f), obs=data[i])\n",
    "        # pyro.observe(\"obs_{}\".format(i), dist.Bernoulli(f), data[i])"
   ]
  },
  {
   "attachments": {},
   "cell_type": "markdown",
   "metadata": {},
   "source": [
    "A corresponding guide, i.e. an appropriate variational distribution for the latent random variable $f$.  \n",
    "The only real requirement is that $q(f)$ should be probability distribution over the range $[0.0, 1.0]$, since $f$ doesn't make sense outside of that range.  \n",
    "A simple choice is to use another Beta distribution, with parameters $\\alpha_q$ and $\\beta_q$. Actually, in this particular case this is the 'right' choice, since conjugacy of the Bernoulli and Beta distributions means that the exact posterior is a Beta distribution."
   ]
  },
  {
   "cell_type": "code",
   "execution_count": 3,
   "metadata": {},
   "outputs": [],
   "source": [
    "import torch.distributions.constraints as constraints\n",
    "# the constraint ensures that alpha_q > 0, and that beta_q > 0, so that the posterior is well-defined.\n",
    "\n",
    "def guide(data):\n",
    "    # register the two variational parameters with Pyro.\n",
    "    alpha_q = pyro.param(\"alpha_1\", torch.tensor(15.0),\n",
    "                         constraint=constraints.positive)\n",
    "    beta_q = pyro.param(\"beta_1\", torch.tensor(15.0),\n",
    "                        constraint=constraints.positive)\n",
    "    # sample the latent variable f from the distribution Beta(alpha_q, beta_q)\n",
    "    pyro.sample(\"latent_fairness\", dist.Beta(alpha_q, beta_q))"
   ]
  },
  {
   "attachments": {},
   "cell_type": "markdown",
   "metadata": {},
   "source": [
    "1. Some thing should be noted that: The names of the random variables line up exactly between the model and guide.  \n",
    "2. `model(data)` and `guide(data)` take the same argument  \n",
    "3. The variational parameters are `torch.tensor`s. The `requires_grad` flag is automatically set to `True` when we call `pyro.param()`.\n",
    "4. `constraint=constraints.positive` to ensure that the variational parameters are positive."
   ]
  },
  {
   "cell_type": "code",
   "execution_count": 4,
   "metadata": {},
   "outputs": [],
   "source": [
    "# set up the optimizer\n",
    "adam_params = {\"lr\": 0.0005, \"betas\": (0.90, 0.999)}\n",
    "optimizer = Adam(adam_params)\n",
    "\n",
    "# setup the inference algorithm\n",
    "svi = SVI(model, guide, optimizer, loss=Trace_ELBO())\n",
    "\n",
    "n_steps = 5000\n",
    "\n",
    "# do gradient steps\n",
    "for step in range(n_steps):\n",
    "    svi.step(data)"
   ]
  },
  {
   "cell_type": "code",
   "execution_count": 6,
   "metadata": {},
   "outputs": [
    {
     "name": "stdout",
     "output_type": "stream",
     "text": [
      "....................\n",
      " Based on the data and our prior belief, the fairness of the coin is 0.461 with a standard deviation of 0.089\n"
     ]
    }
   ],
   "source": [
    "import math\n",
    "import os\n",
    "import torch\n",
    "import torch.distributions.constraints as constraints\n",
    "import pyro\n",
    "from pyro.optim import Adam\n",
    "from pyro.infer import SVI, Trace_ELBO\n",
    "import pyro.distributions as dist\n",
    "\n",
    "smoke_test = ('CI' in os.environ)\n",
    "n_steps = 2 if smoke_test else 2000\n",
    "\n",
    "# clear the param store in case we're in a REPL\n",
    "pyro.clear_param_store()\n",
    "\n",
    "# create some data with 6 observed heads and 9 observed tails\n",
    "data = []\n",
    "for _ in range(6):\n",
    "    data.append(torch.tensor(1.0))\n",
    "for _ in range(9):\n",
    "    data.append(torch.tensor(0.))\n",
    "\n",
    "def model(data):\n",
    "    # define the hyperparameters that control the Beta prior\n",
    "    alpha0 = torch.tensor(10.0)\n",
    "    beta0 = torch.tensor(10.0)\n",
    "    # sample f from the Beta prior\n",
    "    f = pyro.sample(\"latent_fairness\", dist.Beta(alpha0, beta0))\n",
    "    # loop over the observed data\n",
    "    for i in range(len(data)):\n",
    "        # observe datapoint i using the bernoulli\n",
    "        # likelihood Bernoulli(f)\n",
    "        pyro.sample(\"obs_{}\".format(i), dist.Bernoulli(f), obs=data[i])\n",
    "        # pyro.observe(\"obs_{}\".format(i), dist.Bernoulli(f), data[i])\n",
    "\n",
    "def guide(data):\n",
    "    # register the two variational parameters with Pyro\n",
    "    alpha_q = pyro.param(\"alpha_q\", torch.tensor(15.0),\n",
    "                            constraint=constraints.positive)\n",
    "    beta_q = pyro.param(\"beta_q\", torch.tensor(15.0),\n",
    "                            constraint=constraints.positive)\n",
    "    # sample the latent variable f from the distribution Beta(alpha_q, beta_q)\n",
    "    pyro.sample(\"latent_fairness\", dist.Beta(alpha_q, beta_q))\n",
    "\n",
    "# setup the optimizer\n",
    "adam_params = {\"lr\": 0.0005, \"betas\": (0.90, 0.999)}\n",
    "optimizer = Adam(adam_params)\n",
    "\n",
    "# setup the inference algorithm\n",
    "svi = SVI(model, guide, optimizer, loss=Trace_ELBO())\n",
    "\n",
    "# do gradient steps\n",
    "for step in range(n_steps):\n",
    "    svi.step(data)\n",
    "    if step % 100 == 0:\n",
    "        print('.', end='')\n",
    "\n",
    "# grab the learned variational parameters\n",
    "alpha_q = pyro.param(\"alpha_q\").item()\n",
    "beta_q = pyro.param(\"beta_q\").item()\n",
    "\n",
    "# calculate the inferred mean of the Beta posterior\n",
    "inferred_mean = alpha_q / (alpha_q + beta_q)\n",
    "# calculate the inferred standard deviation of the Beta posterior\n",
    "factor = beta_q / (alpha_q * (1.0 + alpha_q + beta_q))\n",
    "inferred_std = inferred_mean * math.sqrt(factor)\n",
    "\n",
    "print(f\"\\n\\n\\nBased on the data and our prior belief, the fairness of the coin is {inferred_mean:.3f} \" + \n",
    "      f\"with a standard deviation of {inferred_std:.3f}\")"
   ]
  },
  {
   "attachments": {},
   "cell_type": "markdown",
   "metadata": {},
   "source": [
    "# SVI II: conditional independence, subsampling, and amortization\n",
    "\n",
    "The Goal: Scaling SVI to large Datasets\n",
    "\n",
    "The log likelihood term in the ELBO can be approximated with\n",
    "$$ \\Sigma_{i=1}^N \\log p(x_i|z) \\approx \\frac{N}{M} \\Sigma_{i \\in I_M} \\log p(x_i|z) $$\n",
    "where $I_M$ is a minibatch of size $M$ drawn uniformly at random from $\\{1, \\ldots, N\\}$.\n",
    "\n",
    "## Marking Conditional Independence in Pyro\n",
    "\n",
    "Pyro provides two language primitives for marking conditional independence: `plate` and `markov`.\n",
    "\n",
    "### Sequential `plate`"
   ]
  },
  {
   "cell_type": "code",
   "execution_count": null,
   "metadata": {},
   "outputs": [],
   "source": [
    "def model(data):\n",
    "    f = pyro.sample(\"latent_fairness\", dist.Beta(alpha0, beta0))\n",
    "    for i in pyro.plate(\"data_loop\", len(data)):\n",
    "        pyro.sample(\"obs_{}\".format(i), dist.Bernoulli(f), obs=data[i])"
   ]
  },
  {
   "attachments": {},
   "cell_type": "markdown",
   "metadata": {},
   "source": [
    "The `pyro.plate` is very similar to `range` with one main difference: each invocation of `plate` requires \n",
    "the user to provide a unique name. The second argument is an integer just like for `range`.  \n",
    "\n",
    "\n",
    "Each observed `sample` statement occurs within a different execution of the body of the `plate` loop, \n",
    "Pyro marks each observation as independent\n",
    "\n",
    "### Vectorized `plate`"
   ]
  },
  {
   "cell_type": "code",
   "execution_count": null,
   "metadata": {},
   "outputs": [],
   "source": [
    "data = torch.zeros(10)\n",
    "data[0:6] = torch.ones(6)\n",
    "\n",
    "with pyro.plate(\"observe_data\"):\n",
    "    pyro.sample(\"obs\", dist.Bernoulli(f), obs=data)"
   ]
  },
  {
   "attachments": {},
   "cell_type": "markdown",
   "metadata": {},
   "source": [
    "## Subsampling\n",
    "Depending on the structure of the model and guide, Pyro supports several ways of doing subsampling\n",
    "### Automatic subsampling with `plate`"
   ]
  },
  {
   "cell_type": "code",
   "execution_count": null,
   "metadata": {},
   "outputs": [],
   "source": [
    "# sequential enumeration\n",
    "for i in pyro.plate(\"data_loop\", len(data), subsample_size=5):\n",
    "    pyro.sample(\"obs_{}\".format(i), dist.Bernoulli(f), obs=data[i])"
   ]
  },
  {
   "cell_type": "code",
   "execution_count": null,
   "metadata": {},
   "outputs": [],
   "source": [
    "# vectorized enumeration\n",
    "with pyro.plate(\"observe_data\", size=100, subsample_size=5) as ind:\n",
    "    pyro.sample(\"obs\", dist.Bernoulli(f), obs=data.index_select(0, ind))"
   ]
  },
  {
   "attachments": {},
   "cell_type": "markdown",
   "metadata": {},
   "source": [
    "`plate` now returns a tensor of indices `ind`.  \n",
    "\n",
    "Since this subsampling is stateless, this can lead to some problems: basically for a sufficiently large dataset even after a large number of iterations there’s a nonnegligible probability that some of the datapoints will have never been selected.\n",
    "\n",
    "### Custom subsampling strategies with `plate`\n",
    "\n",
    "#### Subsampling when there are only local random variables\n",
    "A joint probability density given by $$ p(x,z) = \\prod_{i=1}^N p(x_i|z_i)p(z_i) $$\n",
    "For a model with this dependency structure the scale factor introduced by subsampling scales all the terms in the ELBO by the same amount. This is the case, for example, for a vanilla VAE. This explains why for the VAE it’s permissible for the user to take complete control over subsampling and pass mini-batches directly to the model and guide\n",
    "\n",
    "#### Subsampling when there are both global and local random variables\n",
    "Consider the model specified by the following joint distribution: $$ p(x,z,\\beta) = p(\\beta) \\prod_{i=1}^N p(x_i|z_i)p(z_i|\\beta) $$\n",
    "There are N observations, and N local latent random variables. There is also a global latent random variable $\\beta$.  \n",
    "Our guide is a factorized distribution: $$ q(z,\\beta) = q(\\beta) \\prod_{i=1}^N q(z_i|\\beta,\\lambda_i) $$"
   ]
  },
  {
   "cell_type": "code",
   "execution_count": null,
   "metadata": {},
   "outputs": [],
   "source": []
  },
  {
   "attachments": {},
   "cell_type": "markdown",
   "metadata": {},
   "source": [
    "# SVI III: ELBO Gradient Estimation\n",
    "\n",
    "## Variance or Why I with I was Doing MLE deep learning\n",
    "### Reducting Variance Via Dependency Structure\n",
    "\n",
    "$\\log{p_\\theta(x|\\text{Pa}_p(x))} + \\sum_i\\log{p_\\theta(z_i|\\text{Pa}_p(z_i))}-\\sum_i\\log{q_\\phi(z_i|\\text{Pa}_q(z_i))}$\n",
    "\n"
   ]
  },
  {
   "cell_type": "code",
   "execution_count": 3,
   "metadata": {},
   "outputs": [],
   "source": [
    "svi = SVI(model, guide, optimizer, TraceGraph_ELBO()) \n",
    "# `TraceGraph_ELBO` should only be used in the case where your model has non-reparameterizable random variables."
   ]
  },
  {
   "cell_type": "code",
   "execution_count": 2,
   "metadata": {},
   "outputs": [
    {
     "data": {
      "text/plain": [
       "2"
      ]
     },
     "execution_count": 2,
     "metadata": {},
     "output_type": "execute_result"
    }
   ],
   "source": [
    "ks = pyro.sample(\"k\", dist.Categorical(probs).to_event(1))\n",
    "pyro.sample(\"obs\", dist.Normal(locs[ks], scales[ks]).to_event(1), obs=data)\n",
    "\n",
    "# mark conditional independence\n",
    "with pyro.plate(\"foo\", data.size(-1)):\n",
    "    ks = pyro.sample(\"k\", dist.Categorical(probs))\n",
    "    pyro.sample(\"obs\", dist.Normal(locs[ks], scales[ks]), obs=data)"
   ]
  },
  {
   "attachments": {},
   "cell_type": "markdown",
   "metadata": {},
   "source": [
    "## Reducing Variance with Data-Dependent Baselines\n",
    "### Decaying Average Baseline"
   ]
  },
  {
   "cell_type": "code",
   "execution_count": null,
   "metadata": {},
   "outputs": [],
   "source": [
    "z = pyro.sample(\"z\", dist.Bernoulli(...), infer=dict(baseline={\"use_decaying_avg_baseline\": True,\n",
    "                                                     'baseline_beta': 0.95}))"
   ]
  },
  {
   "attachments": {},
   "cell_type": "markdown",
   "metadata": {},
   "source": [
    "### Neural Baselines"
   ]
  },
  {
   "cell_type": "code",
   "execution_count": null,
   "metadata": {},
   "outputs": [],
   "source": [
    "class BaselineNN(nn.Modele):\n",
    "    def __init__(self, dim_input, dim_hidden):\n",
    "        super().__init__()\n",
    "        self.linear = nn.Linear(dim_input, dim_hidden)\n",
    "    \n",
    "    def forward(self, x):\n",
    "        hidden = self.linear(x)\n",
    "        # ... do something with hidden ...\n",
    "        return baseline"
   ]
  },
  {
   "cell_type": "code",
   "execution_count": null,
   "metadata": {},
   "outputs": [],
   "source": [
    "def guide(x):\n",
    "    pyro.module(\"my_baseline\", baseline_model)\n",
    "    # ... do something with x ...\n",
    "    z = pyro.sample(\"z\", dist.Bernoulli(...),\n",
    "                    infer=dict(baseline={'nn_baseline': baseline_model,\n",
    "                                         'nn_baseline_input': x}))"
   ]
  },
  {
   "cell_type": "code",
   "execution_count": null,
   "metadata": {},
   "outputs": [],
   "source": [
    "def per_param_args(param_name):\n",
    "    if 'baseline' in param_name:\n",
    "        return {\"lr\": 0.010}\n",
    "    else:\n",
    "        return {\"lr\": 0.001}\n",
    "\n",
    "optimizer = Adam(per_param_args)"
   ]
  },
  {
   "cell_type": "code",
   "execution_count": null,
   "metadata": {},
   "outputs": [],
   "source": [
    "# use argument baseline_value\n",
    "b = # do baseline computation\n",
    "z = pyro.sample(\"z\", dist.Bernoulli(...), infer=dict(baseline={\"baseline_value\": b}))"
   ]
  },
  {
   "cell_type": "code",
   "execution_count": 1,
   "metadata": {},
   "outputs": [],
   "source": [
    "import os\n",
    "import torch\n",
    "import torch.distributions.constraints as constraints\n",
    "import pyro\n",
    "import pyro.distributions as dist\n",
    "\n",
    "# Pyro also has a reparameterized Beta distribution so we import the non-reparameterized version to make our point\n",
    "from pyro.distributions.testing.fakes import NonreparameterizedBeta\n",
    "import pyro.optim as optim\n",
    "from pyro.infer import SVI, TraceGraph_ELBO\n",
    "import sys\n",
    "\n",
    "assert pyro.__version__.startswith(\"1.8\")"
   ]
  },
  {
   "cell_type": "code",
   "execution_count": 2,
   "metadata": {},
   "outputs": [
    {
     "name": "stdout",
     "output_type": "stream",
     "text": [
      "Doing inference with use_decaying_avg_baseline=True\n",
      "..\n",
      "Did 162 steps of inference.\n",
      "Final absolute errors for the two variational parameters were 0.7992 & 0.7779\n",
      "Doing inference with use_decaying_avg_baseline=False\n",
      "...\n",
      "Did 285 steps of inference.\n",
      "Final absolute errors for the two variational parameters were 0.7999 & 0.7666\n"
     ]
    }
   ],
   "source": [
    "# this is for running the notebook in our testing framework\n",
    "smoke_test = ('CI' in os.environ)\n",
    "max_steps = 2 if smoke_test else 10000\n",
    "\n",
    "def param_abs_error(name, target):\n",
    "    return torch.sum(torch.abs(target - pyro.param(name))).item()\n",
    "\n",
    "class BernoulliBetaExample:\n",
    "    def __init__(self, max_steps):\n",
    "        self.max_steps = max_steps\n",
    "        # two hyperparameters for the prior Beta distribution\n",
    "        self.alpha0 = 10.0\n",
    "        self.beta0 = 10.0\n",
    "        # the datasets consists of six 1s and four 0s\n",
    "        self.data = torch.zeros(10)\n",
    "        self.data[0:6] = torch.ones(6)\n",
    "        self.n_data = self.data.size(0)\n",
    "        # compute the alpha parameter of the exact beta posterior\n",
    "        self.alpha_n = self.data.sum() + self.alpha0\n",
    "        # compute the beta parameter of the exact beta posterior\n",
    "        self.beta_n = -self.data.sum() + torch.tensor(self.beta0 + self.n_data)\n",
    "        # initial values of the two variational parameters\n",
    "        self.alpha_q_0 = 15.0\n",
    "        self.beta_q_0 = 15.0\n",
    "\n",
    "    def model(self, use_decaying_avg_baseline):\n",
    "        # sample `latent_fairness` from the beta prior\n",
    "        f = pyro.sample(\"latent_fairness\", dist.Beta(self.alpha0, self.beta0))\n",
    "        # use plate to indicate that the observations are\n",
    "        # conditionally independent given f and get vectorization\n",
    "        with pyro.plate(\"data_plate\"):\n",
    "            # observe all ten datapoints using the bernoulli likelihood\n",
    "            pyro.sample(\"obs\", dist.Bernoulli(f), obs=self.data)\n",
    "\n",
    "    def guide(self, use_decaying_avg_baseline):\n",
    "        # register the two variational parameters with pyro\n",
    "        alpha_q = pyro.param(\"alpha_q\", torch.tensor(self.alpha_q_0),\n",
    "                             constraint=constraints.positive)\n",
    "        beta_q = pyro.param(\"beta_q\", torch.tensor(self.beta_q_0),\n",
    "                            constraint=constraints.positive)\n",
    "        # sample f from the beta variational distribution\n",
    "        baseline_dict = {'use_decaying_avg_baseline': use_decaying_avg_baseline,\n",
    "                         'baseline_beta': 0.90}\n",
    "        # note that the baseline_dict specifies whether we're using\n",
    "        # decaying average baselines or not\n",
    "        pyro.sample(\"latent_fairness\", NonreparameterizedBeta(alpha_q, beta_q),\n",
    "                    infer=dict(baseline=baseline_dict))\n",
    "\n",
    "    def do_inference(self, use_decaying_avg_baseline, tolerance=0.80):\n",
    "        # clear the param store in case we're in a REPL\n",
    "        pyro.clear_param_store()\n",
    "        # setup the optimizer and the inference algorithm\n",
    "        optimizer = optim.Adam({\"lr\": .0005, \"betas\": (0.93, 0.999)})\n",
    "        svi = SVI(self.model, self.guide, optimizer, loss=TraceGraph_ELBO())\n",
    "        print(\"Doing inference with use_decaying_avg_baseline=%s\" % use_decaying_avg_baseline)\n",
    "\n",
    "        # do up to this many steps of inference\n",
    "        for k in range(self.max_steps):\n",
    "            svi.step(use_decaying_avg_baseline)\n",
    "            if k % 100 == 0:\n",
    "                print('.', end='')\n",
    "                sys.stdout.flush()\n",
    "\n",
    "            # compute the distance to the parameters of the true posterior\n",
    "            alpha_error = param_abs_error(\"alpha_q\", self.alpha_n)\n",
    "            beta_error = param_abs_error(\"beta_q\", self.beta_n)\n",
    "\n",
    "            # stop inference early if we're close to the true posterior\n",
    "            if alpha_error < tolerance and beta_error < tolerance:\n",
    "                break\n",
    "\n",
    "        print(\"\\nDid %d steps of inference.\" % k)\n",
    "        print((\"Final absolute errors for the two variational parameters \" +\n",
    "               \"were %.4f & %.4f\") % (alpha_error, beta_error))\n",
    "\n",
    "# do the experiment\n",
    "bbe = BernoulliBetaExample(max_steps=max_steps)\n",
    "bbe.do_inference(use_decaying_avg_baseline=True)\n",
    "bbe.do_inference(use_decaying_avg_baseline=False)"
   ]
  },
  {
   "attachments": {},
   "cell_type": "markdown",
   "metadata": {},
   "source": [
    "# SVI IV: Tips and Tricks\n",
    "The effect of all this machinery is to cast Bayesian Inference as a *Stochastic Optimization Problem*\n",
    "\n",
    "1. Start with a small learning rate\n",
    "```{python}\n",
    "optimizer = pyro.optim.Adam({\"lr\": 0.001})\n",
    "```\n",
    "2. Use Adam or ClippedAdam by default\n",
    "Tune the pair of `betas` hyperparameters to control the amount of momentum used by `Adam`.\n",
    "```{python}\n",
    "betas = (0.95, 0.999)\n",
    "```\n",
    "instead of \n",
    "```{python}\n",
    "betas = (0.90, 0.999)\n",
    "```\n",
    "3. Consider using a decaying learning rate\n",
    "```{python}\n",
    "num_steps = 1000\n",
    "initial_lr = 0.001\n",
    "gamma = 0.1 # final_lr will be gamma * initial_lr\n",
    "lrd = gamma ** (1.0 / num_steps)\n",
    "optim = pyro.optim.ClippedAdam({\"lr\": initial_lr, \"lrd\": lrd})\n",
    "```\n",
    "\n",
    "4. Make sure your model and guide distributions have the same support\n",
    "```{python}\n",
    "def model():\n",
    "    pyro.sample(\"x\", dist.LogNormal(0., 1.))\n",
    "```\n",
    "```{python}\n",
    "def good_guide():\n",
    "    loc = pyro.param(\"loc\", torch.tensor(0.))\n",
    "    pyro.sample(\"x\", dist.LogNormal(loc, 1.))\n",
    "\n",
    "def bad_guide():\n",
    "    loc = pyro.param(\"loc\", torch.tensor(0.))\n",
    "    pyro.sample(\"x\", dist.Normal(loc, 1.)) # Normal may have negative support\n",
    "```\n",
    "\n",
    "5. Constrain parameters that need to be constrained\n",
    "```{python}\n",
    "def bad_guide():\n",
    "    scale = pyro.param(\"scale\", torch.tensor(1.))\n",
    "    pyro.sample(\"x\", dist.Normal(0., scale)) # scale may be negative\n",
    "\n",
    "from pyro.distributions import constraints\n",
    "def good_guide():\n",
    "    scale = pyro.param(\"scale\", torch.tensor(0.05), constraint=constraints.positive)\n",
    "    pyro.sample(\"x\", dist.Normal(0., scale))\n",
    "```\n",
    "\n",
    "6. If you are having trouble constructing a custom guide, use an AutoGuide\n",
    "Easy guide `init_lof_fn`\n",
    "7. Parameter initialization matters: initialize guide distributions to have low variance\n",
    "```{python}\n",
    "from pyro.distriutions import constraints\n",
    "def good_guide():\n",
    "    scale = pyro.param(\"scale\", torch.tensor(0.05), constraint=constraints.positive)\n",
    "    pyro.sample(\"x\", dist.Normal(0., scale))\n",
    "\n",
    "def bad_guide():\n",
    "    scale = pyro.param(\"scale\", torch.tensor(12345.6), constraint=constraints.positive)\n",
    "    pyro.sample(\"x\", dist.Normal(0., scale))\n",
    "```\n",
    "\n",
    "8. Explore trade-offs controlled by `num_particles`, mini-batch size, etc.\n",
    "```{python}\n",
    "elbo = pyro.infer.Trace_ELBO(num_particles=10, vectorize_particles=True)\n",
    "```\n",
    "It’s usually worth taking more gradient steps with fewer particles than fewer gradient steps with more particles.\n",
    "\n",
    "9. Use `TraceMeanField` if applicable\n",
    "When analytic KL diverences are available, you may be able to lower ELBO variance by using analytic KL divergences instead.\n",
    "10. Consider normalizing your ELBO\n",
    "By default Pyro computes a un-normalized ELBO, i.e. it computes the quantity that is a lower bound to the log evidence computed on the full set of data that is being conditioned on. \n",
    "11. Pay attention to scales\n",
    "They matter for at least two important reasons:   \n",
    "    i. scales can make or break a particular initialization scheme;   \n",
    "    ii. as discussed in the previous section, scales can have an impact on numerical precision and stability.  \n",
    "```{python}\n",
    "pyro.sample(\"W\", dist.Normal(torch.zeros(2), torch.ones(2)))\n",
    "\n",
    "# instead of\n",
    "prior_scale = torch.tensor([1.0e-5, 1.0e-2])\n",
    "pyro.sample(\"W\", dist.Normal(torch.zeros(2), prior_scale))\n",
    "```\n",
    "12. Keep validation enabled\n",
    "```{python}\n",
    "strict_enumeration_warning=True\n",
    "```\n",
    "13. Tensor shape errors\n",
    "14. Enumerate discrete latent variables if possible\n",
    "15. Some complex models can benefit from KL annealing\n",
    "It can help to anneal the relevant strength of the KL divergence term during optimization\n",
    "\n",
    "16. Consider clipping gradients or constraining parameters defensively\n",
    "`concentration` and `rate` parameters that defines a Gamma distribution may exhibit such sensitivity.\n",
    "```{python}\n",
    "concentration = pyro.param(\"concentration\", torch.tensor(0.5), constraint.greater_than(0.001))\n",
    "```"
   ]
  },
  {
   "attachments": {},
   "cell_type": "markdown",
   "metadata": {},
   "source": [
    "# Bayesian Regression"
   ]
  },
  {
   "cell_type": "code",
   "execution_count": 3,
   "metadata": {},
   "outputs": [],
   "source": [
    "import os\n",
    "from functools import partial\n",
    "import torch\n",
    "import numpy as np\n",
    "import pandas as pd\n",
    "import seaborn as sns\n",
    "import matplotlib.pyplot as plt\n",
    "\n",
    "import pyro\n",
    "import pyro.distributions as dist\n",
    "\n",
    "pyro.set_rng_seed(1)\n",
    "\n",
    "%matplotlib inline\n",
    "plt.style.use('default')"
   ]
  },
  {
   "attachments": {},
   "cell_type": "markdown",
   "metadata": {},
   "source": [
    "Dataset \n",
    "\n",
    "`rugged`: quantifies the Terrain Ruggedness Index   \n",
    "`cont_africa`: whether the given nation is in Africa  \n",
    "`rgdppc_2000`: Real GDP per capita for the year 2000  "
   ]
  },
  {
   "cell_type": "code",
   "execution_count": 4,
   "metadata": {},
   "outputs": [],
   "source": [
    "DATA_URL = \"https://d2hg8soec8ck9v.cloudfront.net/datasets/rugged_data.csv\"\n",
    "data = pd.read_csv(DATA_URL, encoding=\"ISO-8859-1\")\n",
    "df = data[[\"cont_africa\", \"rugged\", \"rgdppc_2000\"]]\n",
    "df = df[np.isfinite(df.rgdppc_2000)]\n",
    "df[\"rgdppc_2000\"] = np.log(df[\"rgdppc_2000\"])"
   ]
  },
  {
   "cell_type": "code",
   "execution_count": 5,
   "metadata": {},
   "outputs": [
    {
     "data": {
      "text/html": [
       "<div>\n",
       "<style scoped>\n",
       "    .dataframe tbody tr th:only-of-type {\n",
       "        vertical-align: middle;\n",
       "    }\n",
       "\n",
       "    .dataframe tbody tr th {\n",
       "        vertical-align: top;\n",
       "    }\n",
       "\n",
       "    .dataframe thead th {\n",
       "        text-align: right;\n",
       "    }\n",
       "</style>\n",
       "<table border=\"1\" class=\"dataframe\">\n",
       "  <thead>\n",
       "    <tr style=\"text-align: right;\">\n",
       "      <th></th>\n",
       "      <th>cont_africa</th>\n",
       "      <th>rugged</th>\n",
       "      <th>rgdppc_2000</th>\n",
       "    </tr>\n",
       "  </thead>\n",
       "  <tbody>\n",
       "    <tr>\n",
       "      <th>2</th>\n",
       "      <td>1</td>\n",
       "      <td>0.858</td>\n",
       "      <td>7.492609</td>\n",
       "    </tr>\n",
       "    <tr>\n",
       "      <th>4</th>\n",
       "      <td>0</td>\n",
       "      <td>3.427</td>\n",
       "      <td>8.216929</td>\n",
       "    </tr>\n",
       "    <tr>\n",
       "      <th>7</th>\n",
       "      <td>0</td>\n",
       "      <td>0.769</td>\n",
       "      <td>9.933263</td>\n",
       "    </tr>\n",
       "    <tr>\n",
       "      <th>8</th>\n",
       "      <td>0</td>\n",
       "      <td>0.775</td>\n",
       "      <td>9.407032</td>\n",
       "    </tr>\n",
       "    <tr>\n",
       "      <th>9</th>\n",
       "      <td>0</td>\n",
       "      <td>2.688</td>\n",
       "      <td>7.792343</td>\n",
       "    </tr>\n",
       "    <tr>\n",
       "      <th>...</th>\n",
       "      <td>...</td>\n",
       "      <td>...</td>\n",
       "      <td>...</td>\n",
       "    </tr>\n",
       "    <tr>\n",
       "      <th>229</th>\n",
       "      <td>0</td>\n",
       "      <td>1.677</td>\n",
       "      <td>8.488849</td>\n",
       "    </tr>\n",
       "    <tr>\n",
       "      <th>230</th>\n",
       "      <td>0</td>\n",
       "      <td>2.323</td>\n",
       "      <td>6.669180</td>\n",
       "    </tr>\n",
       "    <tr>\n",
       "      <th>231</th>\n",
       "      <td>1</td>\n",
       "      <td>1.761</td>\n",
       "      <td>9.150497</td>\n",
       "    </tr>\n",
       "    <tr>\n",
       "      <th>232</th>\n",
       "      <td>1</td>\n",
       "      <td>0.533</td>\n",
       "      <td>6.651585</td>\n",
       "    </tr>\n",
       "    <tr>\n",
       "      <th>233</th>\n",
       "      <td>1</td>\n",
       "      <td>1.194</td>\n",
       "      <td>7.823732</td>\n",
       "    </tr>\n",
       "  </tbody>\n",
       "</table>\n",
       "<p>170 rows × 3 columns</p>\n",
       "</div>"
      ],
      "text/plain": [
       "     cont_africa  rugged  rgdppc_2000\n",
       "2              1   0.858     7.492609\n",
       "4              0   3.427     8.216929\n",
       "7              0   0.769     9.933263\n",
       "8              0   0.775     9.407032\n",
       "9              0   2.688     7.792343\n",
       "..           ...     ...          ...\n",
       "229            0   1.677     8.488849\n",
       "230            0   2.323     6.669180\n",
       "231            1   1.761     9.150497\n",
       "232            1   0.533     6.651585\n",
       "233            1   1.194     7.823732\n",
       "\n",
       "[170 rows x 3 columns]"
      ]
     },
     "execution_count": 5,
     "metadata": {},
     "output_type": "execute_result"
    }
   ],
   "source": [
    "df"
   ]
  },
  {
   "cell_type": "code",
   "execution_count": 7,
   "metadata": {},
   "outputs": [
    {
     "data": {
      "text/plain": [
       "[Text(0.5, 0, 'Terrain Ruggedness Index'),\n",
       " Text(0, 0.5, 'log GDP (2000)'),\n",
       " Text(0.5, 1.0, 'African Nations')]"
      ]
     },
     "execution_count": 7,
     "metadata": {},
     "output_type": "execute_result"
    },
    {
     "data": {
      "image/png": "[encoded data removed]",
      "text/plain": [
       "<Figure size 1200x600 with 2 Axes>"
      ]
     },
     "metadata": {},
     "output_type": "display_data"
    }
   ],
   "source": [
    "fig, ax = plt.subplots(1, 2, figsize=(12, 6), sharey=True)\n",
    "african_nations = df[df[\"cont_africa\"] == 1]\n",
    "non_african_nations = df[df[\"cont_africa\"] == 0]\n",
    "sns.scatterplot(x=non_african_nations[\"rugged\"], y=non_african_nations[\"rgdppc_2000\"], ax=ax[0])\n",
    "ax[0].set(xlabel=\"Terrain Ruggedness Index\", ylabel=\"log GDP (2000)\", title=\"Non-African Nations\")\n",
    "sns.scatterplot(x=african_nations[\"rugged\"], y=african_nations[\"rgdppc_2000\"], ax=ax[1])\n",
    "ax[1].set(xlabel=\"Terrain Ruggedness Index\", ylabel=\"log GDP (2000)\", title=\"African Nations\")"
   ]
  },
  {
   "cell_type": "code",
   "execution_count": 8,
   "metadata": {},
   "outputs": [],
   "source": [
    "from torch import nn\n",
    "from pyro.nn import PyroModule\n",
    "\n",
    "assert issubclass(PyroModule[nn.Linear], nn.Linear)\n",
    "assert issubclass(PyroModule[nn.Linear], PyroModule)"
   ]
  },
  {
   "cell_type": "code",
   "execution_count": 9,
   "metadata": {},
   "outputs": [
    {
     "name": "stdout",
     "output_type": "stream",
     "text": [
      "[iteration 50] loss: 3179.79\n",
      "[iteration 100] loss: 1616.14\n",
      "[iteration 150] loss: 1109.41\n",
      "[iteration 200] loss: 833.75\n",
      "[iteration 250] loss: 637.58\n",
      "[iteration 300] loss: 488.27\n",
      "[iteration 350] loss: 376.47\n",
      "[iteration 400] loss: 296.05\n",
      "[iteration 450] loss: 240.61\n",
      "[iteration 500] loss: 203.94\n",
      "[iteration 550] loss: 180.62\n",
      "[iteration 600] loss: 166.35\n",
      "[iteration 650] loss: 157.95\n",
      "[iteration 700] loss: 153.18\n",
      "[iteration 750] loss: 150.57\n",
      "[iteration 800] loss: 149.20\n",
      "[iteration 850] loss: 148.51\n",
      "[iteration 900] loss: 148.17\n",
      "[iteration 950] loss: 148.01\n",
      "[iteration 1000] loss: 147.93\n",
      "[iteration 1050] loss: 147.90\n",
      "[iteration 1100] loss: 147.89\n",
      "[iteration 1150] loss: 147.88\n",
      "[iteration 1200] loss: 147.88\n",
      "[iteration 1250] loss: 147.88\n",
      "[iteration 1300] loss: 147.88\n",
      "[iteration 1350] loss: 147.88\n",
      "[iteration 1400] loss: 147.88\n",
      "[iteration 1450] loss: 147.88\n",
      "[iteration 1500] loss: 147.88\n",
      "Learned parameters:\n",
      "weight [[-1.9478593  -0.20278622  0.39330277]]\n",
      "bias [9.22308]\n"
     ]
    }
   ],
   "source": [
    "# Dataset: Add a feature to capture the interaction between \"cont_africa\" and \"rugged\"\n",
    "df[\"cont_africa_x_rugged\"] = df[\"cont_africa\"] * df[\"rugged\"]\n",
    "data = torch.tensor(df[['cont_africa', 'rugged', 'cont_africa_x_rugged', 'rgdppc_2000']].values, dtype=torch.float)\n",
    "x_data, y_data = data[:, :-1], data[:, -1]\n",
    "\n",
    "# Regression model\n",
    "linear_reg_model = PyroModule[nn.Linear](3, 1)\n",
    "\n",
    "# Define the loss and optimize\n",
    "loss_fn = torch.nn.MSELoss(reduction='sum')\n",
    "optim = torch.optim.Adam(linear_reg_model.parameters(), lr=0.05)\n",
    "num_iterations = 1500 if not smoke_test else 2\n",
    "\n",
    "def train():\n",
    "    # run the model forward on the data\n",
    "    y_pred = linear_reg_model(x_data).squeeze(-1)\n",
    "    # calculate the mse loss\n",
    "    loss = loss_fn(y_pred, y_data)\n",
    "    # initialize gradients to zero\n",
    "    optim.zero_grad()\n",
    "    # backpropagate\n",
    "    loss.backward()\n",
    "    # take a gradient step\n",
    "    optim.step()\n",
    "    return loss\n",
    "\n",
    "for j in range(num_iterations):\n",
    "    loss = train()\n",
    "    if (j+1) % 50 == 0:\n",
    "        print(f\"[iteration {j+1}] loss: {loss.item():.2f}\")\n",
    "\n",
    "# Inspect learned parameters\n",
    "print(\"Learned parameters:\")\n",
    "for name, param in linear_reg_model.named_parameters():\n",
    "    print(name, param.data.numpy())"
   ]
  },
  {
   "cell_type": "code",
   "execution_count": null,
   "metadata": {},
   "outputs": [],
   "source": []
  }
 ],
 "metadata": {
  "kernelspec": {
   "display_name": "torch",
   "language": "python",
   "name": "torch"
  },
  "language_info": {
   "codemirror_mode": {
    "name": "ipython",
    "version": 3
   },
   "file_extension": ".py",
   "mimetype": "text/x-python",
   "name": "python",
   "nbconvert_exporter": "python",
   "pygments_lexer": "ipython3",
   "version": "3.9.12"
  },
  "orig_nbformat": 4,
  "vscode": {
   "interpreter": {
    "hash": "15bc4865aa63afea73dceac15c24b226eff619ab9f21ee1e4bef87b8d8e3ceea"
   }
  }
 },
 "nbformat": 4,
 "nbformat_minor": 2
}
