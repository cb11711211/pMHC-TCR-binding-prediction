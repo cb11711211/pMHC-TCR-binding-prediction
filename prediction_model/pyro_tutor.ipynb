{
 "cells": [
  {
   "cell_type": "code",
   "execution_count": 1,
   "metadata": {},
   "outputs": [],
   "source": [
    "import pyro\n",
    "import torch\n",
    "from pyro.infer import SVI, Trace_ELBO\n",
    "from pyro.optim import Adam\n",
    "\n",
    "def model():\n",
    "    pass\n",
    "\n",
    "def guide():\n",
    "    pass\n",
    "\n",
    "adam_params = {\"lr\": 0.005, \"betas\": (0.95, 0.999)}\n",
    "optim = Adam(adam_params)\n",
    "\n",
    "svi = SVI(model, guide, optim, loss=Trace_ELBO())"
   ]
  },
  {
   "attachments": {},
   "cell_type": "markdown",
   "metadata": {},
   "source": [
    "The up block is a demo for pyro SVI. And the following is a simple example for how to use pyro to inference the fairness of flipping a coin\n",
    "\n",
    "# SVI part I: define the model and guide"
   ]
  },
  {
   "cell_type": "code",
   "execution_count": 2,
   "metadata": {},
   "outputs": [],
   "source": [
    "import pyro.distributions as dist\n",
    "\n",
    "def model(data):\n",
    "    # define the hyperparameters that control the Beta prior\n",
    "    alpha0 = torch.tensor(10.0)\n",
    "    beta0 = torch.tensor(10.9)\n",
    "    # sample f from the Beta prior\n",
    "    f = pyro.sample(\"latent_fairness\", dist.Beta(alpha0, beta0))\n",
    "    # loop over the observed data\n",
    "    for i in range(len(data)):\n",
    "        # observe datapoint i using the bernoulli\n",
    "        # likelihood Bernoulli(f)\n",
    "        pyro.sample(\"obs_{}\".format(i), dist.Bernoulli(f), obs=data[i])\n",
    "        # pyro.observe(\"obs_{}\".format(i), dist.Bernoulli(f), data[i])"
   ]
  },
  {
   "attachments": {},
   "cell_type": "markdown",
   "metadata": {},
   "source": [
    "A corresponding guide, i.e. an appropriate variational distribution for the latent random variable $f$.  \n",
    "The only real requirement is that $q(f)$ should be probability distribution over the range $[0.0, 1.0]$, since $f$ doesn't make sense outside of that range.  \n",
    "A simple choice is to use another Beta distribution, with parameters $\\alpha_q$ and $\\beta_q$. Actually, in this particular case this is the 'right' choice, since conjugacy of the Bernoulli and Beta distributions means that the exact posterior is a Beta distribution."
   ]
  },
  {
   "cell_type": "code",
   "execution_count": 3,
   "metadata": {},
   "outputs": [],
   "source": [
    "import torch.distributions.constraints as constraints\n",
    "# the constraint ensures that alpha_q > 0, and that beta_q > 0, so that the posterior is well-defined.\n",
    "\n",
    "def guide(data):\n",
    "    # register the two variational parameters with Pyro.\n",
    "    alpha_q = pyro.param(\"alpha_1\", torch.tensor(15.0),\n",
    "                         constraint=constraints.positive)\n",
    "    beta_q = pyro.param(\"beta_1\", torch.tensor(15.0),\n",
    "                        constraint=constraints.positive)\n",
    "    # sample the latent variable f from the distribution Beta(alpha_q, beta_q)\n",
    "    pyro.sample(\"latent_fairness\", dist.Beta(alpha_q, beta_q))"
   ]
  },
  {
   "attachments": {},
   "cell_type": "markdown",
   "metadata": {},
   "source": [
    "1. Some thing should be noted that: The names of the random variables line up exactly between the model and guide.  \n",
    "2. `model(data)` and `guide(data)` take the same argument  \n",
    "3. The variational parameters are `torch.tensor`s. The `requires_grad` flag is automatically set to `True` when we call `pyro.param()`.\n",
    "4. `constraint=constraints.positive` to ensure that the variational parameters are positive."
   ]
  },
  {
   "cell_type": "code",
   "execution_count": 4,
   "metadata": {},
   "outputs": [],
   "source": [
    "# set up the optimizer\n",
    "adam_params = {\"lr\": 0.0005, \"betas\": (0.90, 0.999)}\n",
    "optimizer = Adam(adam_params)\n",
    "\n",
    "# setup the inference algorithm\n",
    "svi = SVI(model, guide, optimizer, loss=Trace_ELBO())\n",
    "\n",
    "n_steps = 5000\n",
    "\n",
    "# do gradient steps\n",
    "for step in range(n_steps):\n",
    "    svi.step(data)"
   ]
  },
  {
   "cell_type": "code",
   "execution_count": 6,
   "metadata": {},
   "outputs": [
    {
     "name": "stdout",
     "output_type": "stream",
     "text": [
      "....................\n",
      " Based on the data and our prior belief, the fairness of the coin is 0.461 with a standard deviation of 0.089\n"
     ]
    }
   ],
   "source": [
    "import math\n",
    "import os\n",
    "import torch\n",
    "import torch.distributions.constraints as constraints\n",
    "import pyro\n",
    "from pyro.optim import Adam\n",
    "from pyro.infer import SVI, Trace_ELBO\n",
    "import pyro.distributions as dist\n",
    "\n",
    "smoke_test = ('CI' in os.environ)\n",
    "n_steps = 2 if smoke_test else 2000\n",
    "\n",
    "# clear the param store in case we're in a REPL\n",
    "pyro.clear_param_store()\n",
    "\n",
    "# create some data with 6 observed heads and 9 observed tails\n",
    "data = []\n",
    "for _ in range(6):\n",
    "    data.append(torch.tensor(1.0))\n",
    "for _ in range(9):\n",
    "    data.append(torch.tensor(0.))\n",
    "\n",
    "def model(data):\n",
    "    # define the hyperparameters that control the Beta prior\n",
    "    alpha0 = torch.tensor(10.0)\n",
    "    beta0 = torch.tensor(10.0)\n",
    "    # sample f from the Beta prior\n",
    "    f = pyro.sample(\"latent_fairness\", dist.Beta(alpha0, beta0))\n",
    "    # loop over the observed data\n",
    "    for i in range(len(data)):\n",
    "        # observe datapoint i using the bernoulli\n",
    "        # likelihood Bernoulli(f)\n",
    "        pyro.sample(\"obs_{}\".format(i), dist.Bernoulli(f), obs=data[i])\n",
    "        # pyro.observe(\"obs_{}\".format(i), dist.Bernoulli(f), data[i])\n",
    "\n",
    "def guide(data):\n",
    "    # register the two variational parameters with Pyro\n",
    "    alpha_q = pyro.param(\"alpha_q\", torch.tensor(15.0),\n",
    "                            constraint=constraints.positive)\n",
    "    beta_q = pyro.param(\"beta_q\", torch.tensor(15.0),\n",
    "                            constraint=constraints.positive)\n",
    "    # sample the latent variable f from the distribution Beta(alpha_q, beta_q)\n",
    "    pyro.sample(\"latent_fairness\", dist.Beta(alpha_q, beta_q))\n",
    "\n",
    "# setup the optimizer\n",
    "adam_params = {\"lr\": 0.0005, \"betas\": (0.90, 0.999)}\n",
    "optimizer = Adam(adam_params)\n",
    "\n",
    "# setup the inference algorithm\n",
    "svi = SVI(model, guide, optimizer, loss=Trace_ELBO())\n",
    "\n",
    "# do gradient steps\n",
    "for step in range(n_steps):\n",
    "    svi.step(data)\n",
    "    if step % 100 == 0:\n",
    "        print('.', end='')\n",
    "\n",
    "# grab the learned variational parameters\n",
    "alpha_q = pyro.param(\"alpha_q\").item()\n",
    "beta_q = pyro.param(\"beta_q\").item()\n",
    "\n",
    "# calculate the inferred mean of the Beta posterior\n",
    "inferred_mean = alpha_q / (alpha_q + beta_q)\n",
    "# calculate the inferred standard deviation of the Beta posterior\n",
    "factor = beta_q / (alpha_q * (1.0 + alpha_q + beta_q))\n",
    "inferred_std = inferred_mean * math.sqrt(factor)\n",
    "\n",
    "print(f\"\\n\\n\\nBased on the data and our prior belief, the fairness of the coin is {inferred_mean:.3f} \" + \n",
    "      f\"with a standard deviation of {inferred_std:.3f}\")"
   ]
  },
  {
   "attachments": {},
   "cell_type": "markdown",
   "metadata": {},
   "source": [
    "# SVI II: conditional independence, subsampling, and amortization\n",
    "\n",
    "The Goal: Scaling SVI to large Datasets\n",
    "\n",
    "The log likelihood term in the ELBO can be approximated with\n",
    "$$ \\Sigma_{i=1}^N \\log p(x_i|z) \\approx \\frac{N}{M} \\Sigma_{i \\in I_M} \\log p(x_i|z) $$\n",
    "where $I_M$ is a minibatch of size $M$ drawn uniformly at random from $\\{1, \\ldots, N\\}$.\n",
    "\n",
    "## Marking Conditional Independence in Pyro\n",
    "\n",
    "Pyro provides two language primitives for marking conditional independence: `plate` and `markov`.\n",
    "\n",
    "### Sequential `plate`"
   ]
  },
  {
   "cell_type": "code",
   "execution_count": null,
   "metadata": {},
   "outputs": [],
   "source": [
    "def model(data):\n",
    "    f = pyro.sample(\"latent_fairness\", dist.Beta(alpha0, beta0))\n",
    "    for i in pyro.plate(\"data_loop\", len(data)):\n",
    "        pyro.sample(\"obs_{}\".format(i), dist.Bernoulli(f), obs=data[i])"
   ]
  },
  {
   "attachments": {},
   "cell_type": "markdown",
   "metadata": {},
   "source": [
    "The `pyro.plate` is very similar to `range` with one main difference: each invocation of `plate` requires \n",
    "the user to provide a unique name. The second argument is an integer just like for `range`.  \n",
    "\n",
    "\n",
    "Each observed `sample` statement occurs within a different execution of the body of the `plate` loop, \n",
    "Pyro marks each observation as independent\n",
    "\n",
    "### Vectorized `plate`"
   ]
  },
  {
   "cell_type": "code",
   "execution_count": null,
   "metadata": {},
   "outputs": [],
   "source": [
    "data = torch.zeros(10)\n",
    "data[0:6] = torch.ones(6)\n",
    "\n",
    "with pyro.plate(\"observe_data\"):\n",
    "    pyro.sample(\"obs\", dist.Bernoulli(f), obs=data)"
   ]
  },
  {
   "attachments": {},
   "cell_type": "markdown",
   "metadata": {},
   "source": [
    "## Subsampling\n",
    "Depending on the structure of the model and guide, Pyro supports several ways of doing subsampling\n",
    "### Automatic subsampling with `plate`"
   ]
  },
  {
   "cell_type": "code",
   "execution_count": null,
   "metadata": {},
   "outputs": [],
   "source": [
    "# sequential enumeration\n",
    "for i in pyro.plate(\"data_loop\", len(data), subsample_size=5):\n",
    "    pyro.sample(\"obs_{}\".format(i), dist.Bernoulli(f), obs=data[i])"
   ]
  },
  {
   "cell_type": "code",
   "execution_count": null,
   "metadata": {},
   "outputs": [],
   "source": [
    "# vectorized enumeration\n",
    "with pyro.plate(\"observe_data\", size=100, subsample_size=5) as ind:\n",
    "    pyro.sample(\"obs\", dist.Bernoulli(f), obs=data.index_select(0, ind))"
   ]
  },
  {
   "attachments": {},
   "cell_type": "markdown",
   "metadata": {},
   "source": [
    "`plate` now returns a tensor of indices `ind`.  \n",
    "\n",
    "Since this subsampling is stateless, this can lead to some problems: basically for a sufficiently large dataset even after a large number of iterations there’s a nonnegligible probability that some of the datapoints will have never been selected.\n",
    "\n",
    "### Custom subsampling strategies with `plate`\n",
    "\n",
    "#### Subsampling when there are only local random variables\n",
    "A joint probability density given by $$ p(x,z) = \\prod_{i=1}^N p(x_i|z_i)p(z_i) $$\n",
    "For a model with this dependency structure the scale factor introduced by subsampling scales all the terms in the ELBO by the same amount. This is the case, for example, for a vanilla VAE. This explains why for the VAE it’s permissible for the user to take complete control over subsampling and pass mini-batches directly to the model and guide\n",
    "\n",
    "#### Subsampling when there are both global and local random variables\n",
    "Consider the model specified by the following joint distribution: $$ p(x,z,\\beta) = p(\\beta) \\prod_{i=1}^N p(x_i|z_i)p(z_i|\\beta) $$\n",
    "There are N observations, and N local latent random variables. There is also a global latent random variable $\\beta$.  \n",
    "Our guide is a factorized distribution: $$ q(z,\\beta) = q(\\beta) \\prod_{i=1}^N q(z_i|\\beta,\\lambda_i) $$"
   ]
  },
  {
   "cell_type": "code",
   "execution_count": null,
   "metadata": {},
   "outputs": [],
   "source": []
  },
  {
   "cell_type": "code",
   "execution_count": 3,
   "metadata": {},
   "outputs": [],
   "source": [
    "# For the protein-RNA multi-omics integration analysis. How to achieve the integration process, respectively and interactionally.\n",
    "# How about the convolution process, respectively and interactionally. And we could predict the protein-RNA interaction between them.\n",
    "\n",
    "import numpy as np\n",
    "import pandas as pd\n",
    "import matplotlib.pyplot as plt\n",
    "import seaborn as sns\n",
    "import torch"
   ]
  },
  {
   "cell_type": "code",
   "execution_count": 2,
   "metadata": {},
   "outputs": [
    {
     "data": {
      "text/plain": [
       "2"
      ]
     },
     "execution_count": 2,
     "metadata": {},
     "output_type": "execute_result"
    }
   ],
   "source": []
  },
  {
   "cell_type": "code",
   "execution_count": null,
   "metadata": {},
   "outputs": [],
   "source": []
  },
  {
   "cell_type": "code",
   "execution_count": null,
   "metadata": {},
   "outputs": [],
   "source": []
  }
 ],
 "metadata": {
  "kernelspec": {
   "display_name": "torch",
   "language": "python",
   "name": "torch"
  },
  "language_info": {
   "codemirror_mode": {
    "name": "ipython",
    "version": 3
   },
   "file_extension": ".py",
   "mimetype": "text/x-python",
   "name": "python",
   "nbconvert_exporter": "python",
   "pygments_lexer": "ipython3",
   "version": "3.9.12"
  },
  "orig_nbformat": 4,
  "vscode": {
   "interpreter": {
    "hash": "15bc4865aa63afea73dceac15c24b226eff619ab9f21ee1e4bef87b8d8e3ceea"
   }
  }
 },
 "nbformat": 4,
 "nbformat_minor": 2
}
